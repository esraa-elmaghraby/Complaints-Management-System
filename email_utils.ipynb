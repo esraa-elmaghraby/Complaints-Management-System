{
 "cells": [
  {
   "cell_type": "code",
   "execution_count": 3,
   "id": "e0c0fdaa-3b89-4c0c-9562-5770bf1587ac",
   "metadata": {},
   "outputs": [
    {
     "name": "stdout",
     "output_type": "stream",
     "text": [
      "Requirement already satisfied: python-dotenv in c:\\users\\esraa\\anaconda3\\lib\\site-packages (0.21.0)\n",
      "Note: you may need to restart the kernel to use updated packages.\n"
     ]
    }
   ],
   "source": [
    "pip install python-dotenv"
   ]
  },
  {
   "cell_type": "code",
   "execution_count": 7,
   "id": "b06c0c58-a67e-4526-b408-f6b91a1e51f2",
   "metadata": {},
   "outputs": [
    {
     "name": "stdout",
     "output_type": "stream",
     "text": [
      "Overwriting email_utils.py\n"
     ]
    }
   ],
   "source": [
    "%%writefile email_utils.py\n",
    "import smtplib\n",
    "from email.message import EmailMessage\n",
    "import os\n",
    "from dotenv import load_dotenv\n",
    "\n",
    "# تحميل البيانات من ملف .env\n",
    "load_dotenv()\n",
    "\n",
    "EMAIL_SENDER = os.getenv(\"EMAIL_SENDER\")\n",
    "EMAIL_PASSWORD = os.getenv(\"EMAIL_PASSWORD\")\n",
    "EMAIL_RECEIVER = \"esraamaghrabi14@gmail.com\"  # غيره لو عايزة\n",
    "\n",
    "def send_email(subject, body):\n",
    "    try:\n",
    "        msg = EmailMessage()\n",
    "        msg.set_content(body)\n",
    "        msg['Subject'] = subject\n",
    "        msg['From'] = EMAIL_SENDER\n",
    "        msg['To'] = EMAIL_RECEIVER\n",
    "\n",
    "        with smtplib.SMTP_SSL('smtp.gmail.com', 465) as smtp:\n",
    "            smtp.login(EMAIL_SENDER, EMAIL_PASSWORD)\n",
    "            smtp.send_message(msg)\n",
    "            print(\"تم الإرسال بنجاح!\")\n",
    "\n",
    "    except Exception as e:\n",
    "        print(f\"حصل خطأ أثناء الإرسال: {e}\")"
   ]
  },
  {
   "cell_type": "code",
   "execution_count": null,
   "id": "996ed328-f564-4279-9a53-3d4c467c8b0d",
   "metadata": {},
   "outputs": [],
   "source": []
  }
 ],
 "metadata": {
  "kernelspec": {
   "display_name": "Python [conda env:base] *",
   "language": "python",
   "name": "conda-base-py"
  },
  "language_info": {
   "codemirror_mode": {
    "name": "ipython",
    "version": 3
   },
   "file_extension": ".py",
   "mimetype": "text/x-python",
   "name": "python",
   "nbconvert_exporter": "python",
   "pygments_lexer": "ipython3",
   "version": "3.12.7"
  }
 },
 "nbformat": 4,
 "nbformat_minor": 5
}
