{
 "cells": [
  {
   "cell_type": "code",
   "execution_count": 3,
   "id": "19bc2cd4-b214-408e-b8f8-3eade1eb156f",
   "metadata": {},
   "outputs": [
    {
     "name": "stdout",
     "output_type": "stream",
     "text": [
      "Overwriting complaints.py\n"
     ]
    }
   ],
   "source": [
    "%%writefile complaints.py\n",
    "import streamlit as st\n",
    "from datetime import datetime\n",
    "from database import load_data\n",
    "\n",
    "def file_complaint(conn, texts):\n",
    "    st.title(texts[\"new_complaint\"])\n",
    "    name = st.text_input(texts[\"name\"])\n",
    "    email = st.text_input(texts[\"email\"])\n",
    "    category = st.selectbox(texts[\"complaint_type\"], texts[\"complaint_types\"])\n",
    "    priority = st.selectbox(texts[\"priority\"], texts[\"priorities\"])\n",
    "    content = st.text_area(texts[\"complaint_content\"])\n",
    "\n",
    "    if st.button(texts[\"submit\"]):\n",
    "        if name and email and category and content:\n",
    "            cursor = conn.cursor()\n",
    "            cursor.execute(\"INSERT INTO complaints (name, email, category, content, priority, status, created_at) VALUES (?, ?, ?, ?, ?, ?, ?)\",\n",
    "                           (name, email, category, content, priority, \"In Progress\", datetime.now().isoformat()))\n",
    "            conn.commit()\n",
    "            st.session_state.notifications.append(texts[\"complaint_success\"])\n",
    "        else:\n",
    "            st.error(texts[\"fill_fields\"])\n",
    "\n",
    "def manage_complaints(conn, texts):\n",
    "    st.title(texts[\"manage_complaints_title\"])\n",
    "    complaints = load_data(conn)\n",
    "\n",
    "    if complaints:\n",
    "        for complaint in complaints:\n",
    "            st.write(f\"Complaint ID: {complaint[0]} | Name: {complaint[1]} | Status: {complaint[6]}\")\n",
    "\n",
    "        complaint_id = st.text_input(texts[\"search_complaint\"], \"\")\n",
    "        if complaint_id:\n",
    "            complaint = next((c for c in complaints if str(c[0]) == complaint_id), None)\n",
    "            if complaint:\n",
    "                st.write(f\"Details: {complaint}\")\n",
    "                status = st.selectbox(texts[\"new_status\"], texts[\"statuses\"])\n",
    "                if st.button(texts[\"update_button\"]):\n",
    "                    cursor = conn.cursor()\n",
    "                    cursor.execute(\"UPDATE complaints SET status = ? WHERE id = ?\", (status, complaint[0]))\n",
    "                    conn.commit()\n",
    "                    st.session_state.notifications.append(texts[\"status_updated\"])\n",
    "            else:\n",
    "                st.error(texts[\"no_complaint\"])\n",
    "    else:\n",
    "        st.write(texts[\"no_complaints\"])\n"
   ]
  },
  {
   "cell_type": "code",
   "execution_count": null,
   "id": "73bb0f34-35e0-4e1c-842d-571374c49232",
   "metadata": {},
   "outputs": [],
   "source": []
  }
 ],
 "metadata": {
  "kernelspec": {
   "display_name": "Python [conda env:base] *",
   "language": "python",
   "name": "conda-base-py"
  },
  "language_info": {
   "codemirror_mode": {
    "name": "ipython",
    "version": 3
   },
   "file_extension": ".py",
   "mimetype": "text/x-python",
   "name": "python",
   "nbconvert_exporter": "python",
   "pygments_lexer": "ipython3",
   "version": "3.12.7"
  }
 },
 "nbformat": 4,
 "nbformat_minor": 5
}
