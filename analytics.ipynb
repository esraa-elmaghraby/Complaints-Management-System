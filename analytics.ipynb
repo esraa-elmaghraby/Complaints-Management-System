{
 "cells": [
  {
   "cell_type": "code",
   "execution_count": 4,
   "id": "51ea26cf-3fc9-4fc9-83ba-0d7c8628440e",
   "metadata": {},
   "outputs": [
    {
     "name": "stdout",
     "output_type": "stream",
     "text": [
      "Overwriting analytics.py\n"
     ]
    }
   ],
   "source": [
    "%%writefile analytics.py\n",
    "import streamlit as st\n",
    "import plotly.express as px\n",
    "import pandas as pd\n",
    "\n",
    "def show_analytics(conn, texts):\n",
    "    st.title(texts[\"analytics_title\"])\n",
    "\n",
    "    # Load complaints data from the database\n",
    "    cursor = conn.cursor()\n",
    "    cursor.execute(\"SELECT * FROM complaints\")\n",
    "    complaints_data = cursor.fetchall()\n",
    "\n",
    "    if complaints_data:\n",
    "        df = pd.DataFrame(complaints_data, columns=[\"id\", \"name\", \"email\", \"category\", \"content\", \"priority\", \"status\", \"created_at\"])\n",
    "\n",
    "        # Complaints by category\n",
    "        fig_category = px.bar(df, x=\"category\", title=texts[\"by_category\"])\n",
    "        st.plotly_chart(fig_category)\n",
    "\n",
    "        # Complaints by status\n",
    "        fig_status = px.bar(df, x=\"status\", title=texts[\"by_status\"])\n",
    "        st.plotly_chart(fig_status)\n",
    "\n",
    "        # Complaints by priority\n",
    "        fig_priority = px.bar(df, x=\"priority\", title=texts[\"by_priority\"])\n",
    "        st.plotly_chart(fig_priority)\n",
    "\n",
    "        # Calculate the percentage of complaints resolved\n",
    "        total_complaints = len(df)\n",
    "        resolved_complaints = len(df[df[\"status\"].str.lower().isin([\"resolved\", \"تم الحل\"])])\n",
    "        if total_complaints > 0:\n",
    "            resolved_percentage = (resolved_complaints / total_complaints) * 100\n",
    "            st.write(f\"نسبة الشكاوى التي تم حلها: {resolved_percentage:.2f}%\")\n",
    "        else:\n",
    "            st.write(texts[\"no_data\"])\n",
    "    else:\n",
    "        st.write(texts[\"no_data\"])"
   ]
  },
  {
   "cell_type": "code",
   "execution_count": null,
   "id": "007886ab-6a76-40e9-bf7c-40bfae38d99a",
   "metadata": {},
   "outputs": [],
   "source": []
  }
 ],
 "metadata": {
  "kernelspec": {
   "display_name": "Python 3 (ipykernel)",
   "language": "python",
   "name": "python3"
  },
  "language_info": {
   "codemirror_mode": {
    "name": "ipython",
    "version": 3
   },
   "file_extension": ".py",
   "mimetype": "text/x-python",
   "name": "python",
   "nbconvert_exporter": "python",
   "pygments_lexer": "ipython3",
   "version": "3.12.7"
  }
 },
 "nbformat": 4,
 "nbformat_minor": 5
}
