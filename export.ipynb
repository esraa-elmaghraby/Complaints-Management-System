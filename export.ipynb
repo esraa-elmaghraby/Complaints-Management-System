{
 "cells": [
  {
   "cell_type": "code",
   "execution_count": 3,
   "id": "3b42fd8a-49af-4dae-bea4-27670653a804",
   "metadata": {},
   "outputs": [
    {
     "name": "stdout",
     "output_type": "stream",
     "text": [
      "Overwriting export.py\n"
     ]
    }
   ],
   "source": [
    "%%writefile export.py\n",
    "import pandas as pd\n",
    "import streamlit as st\n",
    "def export_data(conn, texts):\n",
    "    st.title(texts[\"export_title\"])\n",
    "\n",
    "    # Load complaints data from the database\n",
    "    cursor = conn.cursor()\n",
    "    cursor.execute(\"SELECT * FROM complaints\")\n",
    "    complaints_data = cursor.fetchall()\n",
    "\n",
    "    if complaints_data:\n",
    "        df = pd.DataFrame(complaints_data, columns=[\"id\", \"name\", \"email\", \"category\", \"content\", \"priority\", \"status\", \"created_at\"])\n",
    "\n",
    "        # Export to CSV\n",
    "        csv = df.to_csv(index=False)\n",
    "        st.download_button(\n",
    "            label=texts[\"download_csv\"],\n",
    "            data=csv,\n",
    "            file_name=\"complaints_data.csv\",\n",
    "            mime=\"text/csv\"\n",
    "        )\n",
    "    else:\n",
    "        st.write(texts[\"no_data_export\"])\n"
   ]
  },
  {
   "cell_type": "code",
   "execution_count": null,
   "id": "6940272c-0bd8-40a5-90de-4ef0006a9954",
   "metadata": {},
   "outputs": [],
   "source": []
  }
 ],
 "metadata": {
  "kernelspec": {
   "display_name": "Python [conda env:base] *",
   "language": "python",
   "name": "conda-base-py"
  },
  "language_info": {
   "codemirror_mode": {
    "name": "ipython",
    "version": 3
   },
   "file_extension": ".py",
   "mimetype": "text/x-python",
   "name": "python",
   "nbconvert_exporter": "python",
   "pygments_lexer": "ipython3",
   "version": "3.12.7"
  }
 },
 "nbformat": 4,
 "nbformat_minor": 5
}
