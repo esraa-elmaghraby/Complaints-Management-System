{
 "cells": [
  {
   "cell_type": "code",
   "execution_count": 17,
   "id": "698aa8e0-c9c1-433b-bc3e-ec437e00491e",
   "metadata": {},
   "outputs": [
    {
     "name": "stdout",
     "output_type": "stream",
     "text": [
      "Overwriting notifications.py\n"
     ]
    }
   ],
   "source": [
    "%%writefile notifications.py\n",
    "import streamlit as st\n",
    "import time\n",
    "\n",
    "def display_notifications():\n",
    "    if \"notifications\" in st.session_state and len(st.session_state.notifications) > 0:\n",
    "        for notification in st.session_state.notifications:\n",
    "            notification_expander = st.expander(notification, expanded=True)\n",
    "            with notification_expander:\n",
    "                st.write(notification) \n",
    "            time.sleep(2)\n",
    "            st.session_state.notifications.remove(notification)"
   ]
  },
  {
   "cell_type": "code",
   "execution_count": null,
   "id": "bfd6e95a-5bc5-423b-87f9-b02c2d503656",
   "metadata": {},
   "outputs": [],
   "source": []
  }
 ],
 "metadata": {
  "kernelspec": {
   "display_name": "Python [conda env:base] *",
   "language": "python",
   "name": "conda-base-py"
  },
  "language_info": {
   "codemirror_mode": {
    "name": "ipython",
    "version": 3
   },
   "file_extension": ".py",
   "mimetype": "text/x-python",
   "name": "python",
   "nbconvert_exporter": "python",
   "pygments_lexer": "ipython3",
   "version": "3.12.7"
  }
 },
 "nbformat": 4,
 "nbformat_minor": 5
}
